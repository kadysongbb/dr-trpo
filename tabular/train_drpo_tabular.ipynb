{
 "cells": [
  {
   "cell_type": "code",
   "execution_count": null,
   "metadata": {},
   "outputs": [],
   "source": [
    "import gym\n",
    "from datetime import datetime\n",
    "\n",
    "# DR TRPO related files\n",
    "from train_helper import *\n",
    "from value import NNValueFunction\n",
    "from utils import Logger\n",
    "from dr_policy import DRPolicyKL, DRPolicyWass"
   ]
  },
  {
   "cell_type": "markdown",
   "metadata": {},
   "source": [
    "# Discrete State Space - KL DRPO \n",
    "### 'Taxi-v3', 'Roulette-v0', 'NChain-v0', 'FrozenLake-v0', 'CliffWalking-v0', 'FrozenLake8x8-v0'"
   ]
  },
  {
   "cell_type": "code",
   "execution_count": null,
   "metadata": {
    "scrolled": false
   },
   "outputs": [],
   "source": [
    "env_name = 'NChain-v0'\n",
    "env = gym.make(env_name)\n",
    "sta_num = env.observation_space.n\n",
    "act_num = env.action_space.n\n",
    "policy = DRPolicyKL(sta_num, act_num)\n",
    "val_func = NNValueFunction(1, 10)\n",
    "gamma = 0.9\n",
    "lam = 1\n",
    "total_eps = 1000\n",
    "batch_eps = 1\n",
    "logger = Logger(logname=env_name + '_DR-KL_Batch=' + str(batch_eps), now=datetime.utcnow().strftime(\"%b-%d_%H:%M:%S\"))\n",
    "\n",
    "\n",
    "eps = 0\n",
    "while eps < total_eps:\n",
    "        trajectories = run_policy(env, policy, batch_eps, logger)\n",
    "        eps += len(trajectories)\n",
    "        # add estimated values to episodes\n",
    "        add_value(trajectories, val_func)  \n",
    "        # calculated discounted sum of Rs\n",
    "        add_disc_sum_rew(trajectories, gamma, logger)  \n",
    "        # calculate advantage\n",
    "        add_gae(trajectories, gamma, lam)  \n",
    "        # concatenate all episodes into single NumPy arrays\n",
    "        observes, actions, advantages, disc_sum_rew = build_train_set(trajectories)\n",
    "        log_batch_stats(observes, actions, advantages, disc_sum_rew, eps, logger)\n",
    "        disc_freqs = find_disc_freqs(trajectories, sta_num, gamma)\n",
    "        policy.update(observes, actions, advantages, disc_freqs, env_name, eps)\n",
    "        val_func.fit(observes, disc_sum_rew, logger)\n",
    "        # write logger results to file and stdout\n",
    "        logger.write(display=True) \n",
    "logger.close()"
   ]
  },
  {
   "cell_type": "code",
   "execution_count": null,
   "metadata": {},
   "outputs": [],
   "source": [
    "total_length = 0\n",
    "total_success_dropoff = 0\n",
    "total_illegal_action = 0\n",
    "for i in range(1000):\n",
    "    illegal_action, success_dropoff, eps_length = episode_stats(env, policy)\n",
    "    total_illegal_action += illegal_action\n",
    "    total_success_dropoff += success_dropoff\n",
    "    total_length += eps_length\n",
    "    print('------------------------')\n",
    "print(total_illegal_action/1000)\n",
    "print(total_success_dropoff/1000)\n",
    "print(total_length/1000)"
   ]
  },
  {
   "cell_type": "markdown",
   "metadata": {},
   "source": [
    "# Discrete State Space - Wasserstein DRPO \n",
    "### 'Taxi-v3', 'Roulette-v0', 'NChain-v0', 'FrozenLake-v0', 'CliffWalking-v0', 'FrozenLake8x8-v0'"
   ]
  },
  {
   "cell_type": "code",
   "execution_count": null,
   "metadata": {},
   "outputs": [],
   "source": [
    "env_name = 'Taxi-v3'\n",
    "env = gym.make(env_name)\n",
    "sta_num = env.observation_space.n\n",
    "act_num = env.action_space.n\n",
    "policy = DRPolicyWass(sta_num, act_num)\n",
    "val_func = NNValueFunction(1, 10)\n",
    "gamma = 0.9\n",
    "lam = 1\n",
    "total_eps = 5000\n",
    "batch_eps = 60\n",
    "logger = Logger(logname=env_name + '_DR-Wass_Batch=' + str(batch_eps), now=datetime.utcnow().strftime(\"%b-%d_%H:%M:%S\"))\n",
    "\n",
    "\n",
    "eps = 0\n",
    "while eps < total_eps:\n",
    "        trajectories = run_policy(env, policy, batch_eps, logger)\n",
    "        eps += len(trajectories)\n",
    "        # add estimated values to episodes\n",
    "        add_value(trajectories, val_func)  \n",
    "        # calculated discounted sum of Rs\n",
    "        add_disc_sum_rew(trajectories, gamma, logger)  \n",
    "        # calculate advantage\n",
    "        add_gae(trajectories, gamma, lam)  \n",
    "        # concatenate all episodes into single NumPy arrays\n",
    "        observes, actions, advantages, disc_sum_rew = build_train_set(trajectories)\n",
    "        disc_freqs = find_disc_freqs(trajectories, sta_num, gamma)\n",
    "        log_batch_stats(observes, actions, advantages, disc_sum_rew, eps, logger)\n",
    "        policy.update(observes, actions, advantages, disc_freqs, env_name, eps)\n",
    "        val_func.fit(observes, disc_sum_rew, logger)\n",
    "        # write logger results to file and stdout\n",
    "        logger.write(display=True) \n",
    "logger.close()"
   ]
  },
  {
   "cell_type": "code",
   "execution_count": null,
   "metadata": {},
   "outputs": [],
   "source": [
    "total_length = 0\n",
    "total_success_dropoff = 0\n",
    "total_illegal_action = 0\n",
    "for i in range(1000):\n",
    "    illegal_action, success_dropoff, eps_length = episode_stats(env, policy)\n",
    "    total_illegal_action += illegal_action\n",
    "    total_success_dropoff += success_dropoff\n",
    "    total_length += eps_length\n",
    "    print('------------------------')\n",
    "print(total_illegal_action/1000)\n",
    "print(total_success_dropoff/1000)\n",
    "print(total_length/1000)"
   ]
  },
  {
   "cell_type": "code",
   "execution_count": null,
   "metadata": {},
   "outputs": [],
   "source": []
  }
 ],
 "metadata": {
  "kernelspec": {
   "display_name": "Python 3",
   "language": "python",
   "name": "python3"
  },
  "language_info": {
   "codemirror_mode": {
    "name": "ipython",
    "version": 3
   },
   "file_extension": ".py",
   "mimetype": "text/x-python",
   "name": "python",
   "nbconvert_exporter": "python",
   "pygments_lexer": "ipython3",
   "version": "3.7.2"
  }
 },
 "nbformat": 4,
 "nbformat_minor": 2
}
