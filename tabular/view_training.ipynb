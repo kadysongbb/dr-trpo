{
 "cells": [
  {
   "cell_type": "markdown",
   "metadata": {},
   "source": [
    "# Explore Training Curves\n",
    "\n",
    "Modified by Jun, based on Patrick Coady's code: https://github.com/pat-coady/trpo"
   ]
  },
  {
   "cell_type": "code",
   "execution_count": 12,
   "metadata": {},
   "outputs": [],
   "source": [
    "import numpy as np\n",
    "import matplotlib.pyplot as plt\n",
    "import pandas as pd\n",
    "import matplotlib.pyplot as plt\n",
    "import seaborn as sns\n",
    "\n",
    "sns.set()\n",
    "%matplotlib inline\n",
    "plt.rcParams[\"figure.figsize\"] = (6,5)"
   ]
  },
  {
   "cell_type": "code",
   "execution_count": 13,
   "metadata": {},
   "outputs": [],
   "source": [
    "def find_moving_avg(data, window_size):\n",
    "    quantile1 = np.zeros(len(data)-window_size)\n",
    "    quantile2 = np.zeros(len(data)-window_size)\n",
    "    avg = np.zeros(len(data)-window_size)\n",
    "    for i in range(len(data)-window_size):\n",
    "        avg[i] = np.mean(data[i:i+window_size])\n",
    "        quantile1[i] = np.quantile(data[i:i+window_size], 0.25)\n",
    "        quantile2[i] = np.quantile(data[i:i+window_size], 0.75)\n",
    "    return avg, quantile1, quantile2\n",
    "\n",
    "def df_plot(dfs, x, ys, isTaxi, isChain, isCliff, ylim=None, xlim=None, legend_loc='best'):\n",
    "    \"\"\" Plot y vs. x curves from pandas dataframe(s)\n",
    "\n",
    "    Args:\n",
    "        dfs: list of pandas dataframes\n",
    "        x: str column label for x variable\n",
    "        ys: list of str column labels for y variable(s)\n",
    "        ylim: tuple to override automatic y-axis limits\n",
    "        xlim: tuple to override automatic x-axis limits\n",
    "        legend_loc: str to override automatic legend placement:\n",
    "            'upper left', 'lower left', 'lower right' , 'right' ,\n",
    "            'center left', 'center right', 'lower center',\n",
    "            'upper center', and 'center'\n",
    "    \"\"\"\n",
    "    if ylim is not None:\n",
    "        plt.ylim(ylim)\n",
    "    if xlim is not None:\n",
    "        plt.xlim(xlim)\n",
    "    for df, name in dfs:\n",
    "        if '_' in name:\n",
    "            name = name.split('_')[1]\n",
    "            if 'KL' in name:\n",
    "                name = 'DRTRPO-KL'\n",
    "            else:\n",
    "                name = 'DRTRPO-Wass'\n",
    "        for y in ys:\n",
    "            x_val = df[x]\n",
    "            y_val = df[y]\n",
    "            ws = 10\n",
    "            if isTaxi == True:\n",
    "                update_sz = 100\n",
    "                plt.title('Taxi', fontsize = 22)\n",
    "            if isChain == True:\n",
    "                update_sz = 20\n",
    "                plt.title('Chain', fontsize = 22)\n",
    "            if isCliff == True:\n",
    "                update_sz = 5\n",
    "                plt.title('Cliff', fontsize = 22)\n",
    "            moving_average = find_moving_avg(y_val, ws)\n",
    "            plt.plot(x_val[0:len(x_val)-ws]/update_sz, moving_average[0], linewidth = 2.5, label=name)\n",
    "            plt.fill_between(x_val[0:len(x_val)-ws]/update_sz, moving_average[1], moving_average[2], alpha=0.3)\n",
    "    plt.xticks(fontsize=15)\n",
    "    plt.yticks(fontsize=15)\n",
    "    plt.rcParams['axes.labelsize'] = 15\n",
    "    plt.rcParams['axes.labelsize'] = 15\n",
    "    plt.axis((None,None,None,None))\n",
    "    plt.xlabel('Iteration')\n",
    "    plt.ylabel('Rewards')"
   ]
  },
  {
   "cell_type": "code",
   "execution_count": 14,
   "metadata": {},
   "outputs": [],
   "source": [
    "# ENTER LIST OF LOG FILENAMES HERE:\n",
    "# filepaths = ['log-files/NChain-v0_DR-KL_Batch=20/Jan-16_01:50:07/log.csv', 'log-files/NChain-v0_DR-Wass_Batch=15/Jan-16_07:06:11/log.csv']\n",
    "# filepaths = ['log-files/Taxi-v3_DR-KL_Batch=100/Jan-07_21:08:22/log.csv', 'log-files/Taxi-v3_DR-Wass_Batch=100/Jan-07_21:52:54/log.csv']\n",
    "filepaths = ['log-files/CliffWalking-v0_DR-KL_Batch=5/Feb-18_10:52:31/log.csv', 'log-files/CliffWalking-v0_DR-Wass_Batch=3/Feb-18_16:41:21/log.csv']\n",
    "\n",
    "dataframes = []\n",
    "names = []\n",
    "for filepath in filepaths:\n",
    "    names.append(filepath.split('/')[1])\n",
    "    dataframes.append(pd.read_csv(filepath))\n",
    "data = list(zip(dataframes, names))"
   ]
  },
  {
   "cell_type": "markdown",
   "metadata": {},
   "source": [
    "# Plots"
   ]
  },
  {
   "cell_type": "code",
   "execution_count": 19,
   "metadata": {
    "scrolled": false
   },
   "outputs": [
    {
     "data": {
      "text/plain": [
       "<matplotlib.legend.Legend at 0x12ebdde50>"
      ]
     },
     "execution_count": 19,
     "metadata": {},
     "output_type": "execute_result"
    },
    {
     "data": {
      "image/png": "[encoded data removed]",
      "text/plain": [
       "<Figure size 432x360 with 1 Axes>"
      ]
     },
     "metadata": {
      "needs_background": "light"
     },
     "output_type": "display_data"
    }
   ],
   "source": [
    "isTaxi = False\n",
    "isChain = False\n",
    "isCliff = True\n",
    "\n",
    "if isTaxi or isChain:\n",
    "    df_plot(data, '_Episode', ['_AvgRewardSum'], isTaxi, isChain, isCliff, None, [0,40])\n",
    "if isCliff:\n",
    "    df_plot(data, '_Episode', ['_AvgRewardSum'], isTaxi, isChain, isCliff, None, [1,35])\n",
    "    \n",
    "# read TRPO baseline results\n",
    "if isTaxi:\n",
    "    trpo_log_name = './tmp/taxi_monitor.csv'\n",
    "    trpo_update_sz = 5\n",
    "if isChain:\n",
    "    trpo_log_name = './tmp/chain_monitor.csv'\n",
    "    trpo_update_sz = 1\n",
    "if isCliff:\n",
    "    trpo_log_name = './tmp/cliff_monitor.csv'\n",
    "    trpo_update_sz = 1\n",
    "    \n",
    "    \n",
    "window_size = 20\n",
    "df=pd.read_csv(trpo_log_name, sep=',', skiprows = 0, header= 1)\n",
    "y_val = df['r']\n",
    "moving_average = find_moving_avg(y_val, window_size)\n",
    "plt.plot(np.arange(len(y_val)-window_size)/trpo_update_sz, moving_average[0], label='TRPO', linewidth = 2.5)\n",
    "plt.fill_between(np.arange(len(y_val)-window_size)/trpo_update_sz, moving_average[1], moving_average[2], alpha=0.2)\n",
    "plt.legend(fontsize=15, loc='lower right')"
   ]
  },
  {
   "cell_type": "code",
   "execution_count": null,
   "metadata": {},
   "outputs": [],
   "source": []
  },
  {
   "cell_type": "code",
   "execution_count": null,
   "metadata": {},
   "outputs": [],
   "source": []
  }
 ],
 "metadata": {
  "kernelspec": {
   "display_name": "Python 3",
   "language": "python",
   "name": "python3"
  },
  "language_info": {
   "codemirror_mode": {
    "name": "ipython",
    "version": 3
   },
   "file_extension": ".py",
   "mimetype": "text/x-python",
   "name": "python",
   "nbconvert_exporter": "python",
   "pygments_lexer": "ipython3",
   "version": "3.7.5"
  }
 },
 "nbformat": 4,
 "nbformat_minor": 2
}
