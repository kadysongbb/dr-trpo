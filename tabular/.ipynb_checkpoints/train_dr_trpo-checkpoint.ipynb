{
 "cells": [
  {
   "cell_type": "code",
   "execution_count": 2,
   "metadata": {},
   "outputs": [
    {
     "name": "stderr",
     "output_type": "stream",
     "text": [
      "/usr/local/lib/python3.7/site-packages/tensorflow/python/framework/dtypes.py:526: FutureWarning: Passing (type, 1) or '1type' as a synonym of type is deprecated; in a future version of numpy, it will be understood as (type, (1,)) / '(1,)type'.\n",
      "  _np_qint8 = np.dtype([(\"qint8\", np.int8, 1)])\n",
      "/usr/local/lib/python3.7/site-packages/tensorflow/python/framework/dtypes.py:527: FutureWarning: Passing (type, 1) or '1type' as a synonym of type is deprecated; in a future version of numpy, it will be understood as (type, (1,)) / '(1,)type'.\n",
      "  _np_quint8 = np.dtype([(\"quint8\", np.uint8, 1)])\n",
      "/usr/local/lib/python3.7/site-packages/tensorflow/python/framework/dtypes.py:528: FutureWarning: Passing (type, 1) or '1type' as a synonym of type is deprecated; in a future version of numpy, it will be understood as (type, (1,)) / '(1,)type'.\n",
      "  _np_qint16 = np.dtype([(\"qint16\", np.int16, 1)])\n",
      "/usr/local/lib/python3.7/site-packages/tensorflow/python/framework/dtypes.py:529: FutureWarning: Passing (type, 1) or '1type' as a synonym of type is deprecated; in a future version of numpy, it will be understood as (type, (1,)) / '(1,)type'.\n",
      "  _np_quint16 = np.dtype([(\"quint16\", np.uint16, 1)])\n",
      "/usr/local/lib/python3.7/site-packages/tensorflow/python/framework/dtypes.py:530: FutureWarning: Passing (type, 1) or '1type' as a synonym of type is deprecated; in a future version of numpy, it will be understood as (type, (1,)) / '(1,)type'.\n",
      "  _np_qint32 = np.dtype([(\"qint32\", np.int32, 1)])\n",
      "/usr/local/lib/python3.7/site-packages/tensorflow/python/framework/dtypes.py:535: FutureWarning: Passing (type, 1) or '1type' as a synonym of type is deprecated; in a future version of numpy, it will be understood as (type, (1,)) / '(1,)type'.\n",
      "  np_resource = np.dtype([(\"resource\", np.ubyte, 1)])\n"
     ]
    }
   ],
   "source": [
    "import gym\n",
    "import pybullet\n",
    "import pybullet_envs\n",
    "from gym import wrappers\n",
    "from datetime import datetime\n",
    "\n",
    "# DR TRPO related files\n",
    "from train_helper import *\n",
    "from value import NNValueFunction\n",
    "from utils import Logger\n",
    "from dr_policy import DRPolicyKL, DRPolicyWass"
   ]
  },
  {
   "cell_type": "markdown",
   "metadata": {},
   "source": [
    "# Discrete State Space - KL DR TRPO Policy\n",
    "### 'Taxi-v3', 'Roulette-v0', 'NChain-v0', 'FrozenLake-v0', 'CliffWalking-v0', 'FrozenLake8x8-v0'"
   ]
  },
  {
   "cell_type": "code",
   "execution_count": null,
   "metadata": {
    "scrolled": false
   },
   "outputs": [],
   "source": [
    "env_name = 'NChain-v0'\n",
    "pybullet.connect(pybullet.DIRECT)\n",
    "env = gym.make(env_name)\n",
    "sta_num = env.observation_space.n\n",
    "act_num = env.action_space.n\n",
    "policy = DRPolicyKL(sta_num, act_num)\n",
    "val_func = NNValueFunction(1, 10)\n",
    "gamma = 0.9\n",
    "lam = 1\n",
    "total_eps = 2000\n",
    "batch_eps = 20\n",
    "logger = Logger(logname=env_name + '_DR-KL_Batch=' + str(batch_eps), now=datetime.utcnow().strftime(\"%b-%d_%H:%M:%S\"))\n",
    "\n",
    "\n",
    "eps = 0\n",
    "while eps < total_eps:\n",
    "        trajectories = run_policy(env, policy, batch_eps, logger)\n",
    "        eps += len(trajectories)\n",
    "        # add estimated values to episodes\n",
    "        add_value(trajectories, val_func)  \n",
    "        # calculated discounted sum of Rs\n",
    "        add_disc_sum_rew(trajectories, gamma, logger)  \n",
    "        # calculate advantage\n",
    "        add_gae(trajectories, gamma, lam)  \n",
    "        # concatenate all episodes into single NumPy arrays\n",
    "        observes, actions, advantages, disc_sum_rew = build_train_set(trajectories)\n",
    "        log_batch_stats(observes, actions, advantages, disc_sum_rew, eps, logger)\n",
    "        disc_freqs = find_disc_freqs(trajectories, sta_num, gamma)\n",
    "        policy.update(observes, actions, advantages, disc_freqs)\n",
    "        val_func.fit(observes, disc_sum_rew, logger)\n",
    "        # write logger results to file and stdout\n",
    "        logger.write(display=True) \n",
    "logger.close()"
   ]
  },
  {
   "cell_type": "markdown",
   "metadata": {},
   "source": [
    "# Discrete State Space - Wasserstein DR TRPO Policy\n",
    "### 'Taxi-v3', 'Roulette-v0', 'NChain-v0', 'FrozenLake-v0', 'CliffWalking-v0', 'FrozenLake8x8-v0'"
   ]
  },
  {
   "cell_type": "code",
   "execution_count": null,
   "metadata": {},
   "outputs": [
    {
     "name": "stdout",
     "output_type": "stream",
     "text": [
      "Value Params -- h1: 10, h2: 7, h3: 5, lr: 0.00378\n",
      "***** Episode 20, Mean Return = 1276.8, Mean Discounted Return = 11.3 *****\n",
      "ExplainedVarNew: -1.09e-06\n",
      "ExplainedVarOld: -0.000155\n",
      "ValFuncLoss: 27.8\n",
      "\n",
      "\n",
      "***** Episode 40, Mean Return = 1338.9, Mean Discounted Return = 12.8 *****\n",
      "ExplainedVarNew: -0.0505\n",
      "ExplainedVarOld: -8.63e-07\n",
      "ValFuncLoss: 37.4\n",
      "\n",
      "\n",
      "***** Episode 60, Mean Return = 1302.1, Mean Discounted Return = 10.9 *****\n",
      "ExplainedVarNew: -0.141\n",
      "ExplainedVarOld: -0.0606\n",
      "ValFuncLoss: 32.6\n",
      "\n",
      "\n",
      "***** Episode 80, Mean Return = 1305.4, Mean Discounted Return = 11.1 *****\n",
      "ExplainedVarNew: -0.143\n",
      "ExplainedVarOld: -0.135\n",
      "ValFuncLoss: 35\n",
      "\n",
      "\n",
      "***** Episode 100, Mean Return = 1333.0, Mean Discounted Return = 11.8 *****\n",
      "ExplainedVarNew: -0.131\n",
      "ExplainedVarOld: -0.129\n",
      "ValFuncLoss: 39.5\n",
      "\n",
      "\n"
     ]
    }
   ],
   "source": [
    "env_name = 'NChain-v0'\n",
    "pybullet.connect(pybullet.DIRECT)\n",
    "env = gym.make(env_name)\n",
    "sta_num = env.observation_space.n\n",
    "act_num = env.action_space.n\n",
    "policy = DRPolicyWass(sta_num, act_num)\n",
    "val_func = NNValueFunction(1, 10)\n",
    "gamma = 0.9\n",
    "lam = 1\n",
    "total_eps = 1500\n",
    "batch_eps = 10\n",
    "logger = Logger(logname=env_name + '_DR-Wass_Batch=' + str(batch_eps), now=datetime.utcnow().strftime(\"%b-%d_%H:%M:%S\"))\n",
    "\n",
    "\n",
    "eps = 0\n",
    "while eps < total_eps:\n",
    "        trajectories = run_policy(env, policy, batch_eps, logger)\n",
    "        eps += len(trajectories)\n",
    "        # add estimated values to episodes\n",
    "        add_value(trajectories, val_func)  \n",
    "        # calculated discounted sum of Rs\n",
    "        add_disc_sum_rew(trajectories, gamma, logger)  \n",
    "        # calculate advantage\n",
    "        add_gae(trajectories, gamma, lam)  \n",
    "        # concatenate all episodes into single NumPy arrays\n",
    "        observes, actions, advantages, disc_sum_rew = build_train_set(trajectories)\n",
    "        disc_freqs = find_disc_freqs(trajectories, sta_num, gamma)\n",
    "        log_batch_stats(observes, actions, advantages, disc_sum_rew, eps, logger)\n",
    "        policy.update(observes, actions, advantages, disc_freqs)\n",
    "        val_func.fit(observes, disc_sum_rew, logger)\n",
    "        # write logger results to file and stdout\n",
    "        logger.write(display=True) \n",
    "logger.close()"
   ]
  },
  {
   "cell_type": "code",
   "execution_count": null,
   "metadata": {},
   "outputs": [],
   "source": []
  },
  {
   "cell_type": "code",
   "execution_count": null,
   "metadata": {},
   "outputs": [],
   "source": []
  }
 ],
 "metadata": {
  "kernelspec": {
   "display_name": "Python 3",
   "language": "python",
   "name": "python3"
  },
  "language_info": {
   "codemirror_mode": {
    "name": "ipython",
    "version": 3
   },
   "file_extension": ".py",
   "mimetype": "text/x-python",
   "name": "python",
   "nbconvert_exporter": "python",
   "pygments_lexer": "ipython3",
   "version": "3.7.5"
  }
 },
 "nbformat": 4,
 "nbformat_minor": 2
}
