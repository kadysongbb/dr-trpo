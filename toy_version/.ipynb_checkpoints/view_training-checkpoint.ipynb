{
 "cells": [
  {
   "cell_type": "markdown",
   "metadata": {},
   "source": [
    "# Explore Training Curves\n",
    "\n",
    "Modified by Jun, based on Patrick Coady's code: https://github.com/pat-coady/trpo"
   ]
  },
  {
   "cell_type": "code",
   "execution_count": 1,
   "metadata": {},
   "outputs": [],
   "source": [
    "import numpy as np\n",
    "import matplotlib.pyplot as plt\n",
    "import pandas as pd\n",
    "%matplotlib inline\n",
    "plt.rcParams[\"figure.figsize\"] = (10,5)\n",
    "plt.style.use('seaborn-bright')"
   ]
  },
  {
   "cell_type": "code",
   "execution_count": 2,
   "metadata": {},
   "outputs": [],
   "source": [
    "def df_plot(dfs, x, ys, ylim=None, xlim=None, legend_loc='best'):\n",
    "    \"\"\" Plot y vs. x curves from pandas dataframe(s)\n",
    "\n",
    "    Args:\n",
    "        dfs: list of pandas dataframes\n",
    "        x: str column label for x variable\n",
    "        ys: list of str column labels for y variable(s)\n",
    "        ylim: tuple to override automatic y-axis limits\n",
    "        xlim: tuple to override automatic x-axis limits\n",
    "        legend_loc: str to override automatic legend placement:\n",
    "            'upper left', 'lower left', 'lower right' , 'right' ,\n",
    "            'center left', 'center right', 'lower center',\n",
    "            'upper center', and 'center'\n",
    "    \"\"\"\n",
    "    if ylim is not None:\n",
    "        plt.ylim(ylim)\n",
    "    if xlim is not None:\n",
    "        plt.xlim(xlim)\n",
    "    for df, name in dfs:\n",
    "        if '_' in name:\n",
    "            name = \", \".join(name.split('_')[0:3])\n",
    "        for y in ys:\n",
    "            plt.plot(df[x], df[y], linewidth=2,\n",
    "                     label=name)\n",
    "    plt.xticks(fontsize=15)\n",
    "    plt.yticks(fontsize=15)\n",
    "    plt.rcParams['axes.labelsize'] = 15\n",
    "    plt.rcParams['axes.labelsize'] = 15\n",
    "    plt.axis((None,None,None,None))\n",
    "    plt.xlabel(x.replace('_', ''))\n",
    "    plt.ylabel(y.replace('_', ''))\n",
    "    plt.legend(loc='lower right', prop={'size': 18})\n",
    "    plt.savefig('./figures/' + name + '.png', bbox_inches='tight', dpi=100)\n",
    "    plt.show()"
   ]
  },
  {
   "cell_type": "code",
   "execution_count": 5,
   "metadata": {},
   "outputs": [],
   "source": [
    "# ENTER LIST OF LOG FILENAMES HERE:\n",
    "filepaths = ['log-files/NChain-v0_DR-KL_Batch=20/Jan-16_01:50:07/log.csv']\n",
    "dataframes = []\n",
    "names = []\n",
    "for filepath in filepaths:\n",
    "    names.append(filepath.split('/')[1])\n",
    "    dataframes.append(pd.read_csv(filepath))\n",
    "data = list(zip(dataframes, names))"
   ]
  },
  {
   "cell_type": "markdown",
   "metadata": {},
   "source": [
    "# Plots"
   ]
  },
  {
   "cell_type": "code",
   "execution_count": 6,
   "metadata": {
    "scrolled": false
   },
   "outputs": [
    {
     "data": {
      "image/png": "[encoded data removed]",
      "text/plain": [
       "<Figure size 720x360 with 1 Axes>"
      ]
     },
     "metadata": {
      "needs_background": "light"
     },
     "output_type": "display_data"
    }
   ],
   "source": [
    "df_plot(data, '_Episode', ['_AvgRewardSum'])"
   ]
  },
  {
   "cell_type": "code",
   "execution_count": null,
   "metadata": {},
   "outputs": [],
   "source": [
    "df_plot(data, '_Episode', ['_AvgDiscountedRewardSum'])"
   ]
  },
  {
   "cell_type": "code",
   "execution_count": null,
   "metadata": {},
   "outputs": [],
   "source": [
    "df_plot(data, '_Episode', ['_mean_discrew'])\n",
    "df_plot(data, '_Episode', ['_std_discrew'])\n",
    "df_plot(data, '_Episode', ['_mean_adv'])\n",
    "df_plot(data, '_Episode', ['_std_adv'])"
   ]
  },
  {
   "cell_type": "code",
   "execution_count": null,
   "metadata": {},
   "outputs": [],
   "source": [
    "df_plot(data, '_Episode', ['_mean_obs'])\n",
    "df_plot(data, '_Episode', ['_min_obs'])\n",
    "df_plot(data, '_Episode', ['_max_obs'])\n"
   ]
  },
  {
   "cell_type": "code",
   "execution_count": null,
   "metadata": {},
   "outputs": [],
   "source": [
    "df_plot(data, '_Episode', ['_mean_act'])\n",
    "df_plot(data, '_Episode', ['_min_act'])\n",
    "df_plot(data, '_Episode', ['_max_act'])\n",
    "df_plot(data, '_Episode', ['_std_act'])"
   ]
  },
  {
   "cell_type": "code",
   "execution_count": null,
   "metadata": {},
   "outputs": [],
   "source": []
  },
  {
   "cell_type": "code",
   "execution_count": null,
   "metadata": {},
   "outputs": [],
   "source": []
  }
 ],
 "metadata": {
  "kernelspec": {
   "display_name": "Python 3",
   "language": "python",
   "name": "python3"
  },
  "language_info": {
   "codemirror_mode": {
    "name": "ipython",
    "version": 3
   },
   "file_extension": ".py",
   "mimetype": "text/x-python",
   "name": "python",
   "nbconvert_exporter": "python",
   "pygments_lexer": "ipython3",
   "version": "3.7.5"
  }
 },
 "nbformat": 4,
 "nbformat_minor": 2
}
